{
 "cells": [
  {
   "cell_type": "markdown",
   "id": "dc1b59b8",
   "metadata": {},
   "source": [
    "# My Garmin Watch (vivoactive3) Health Data Analysis"
   ]
  },
  {
   "cell_type": "code",
   "execution_count": 1,
   "id": "75e0934d",
   "metadata": {
    "ExecuteTime": {
     "end_time": "2023-07-03T22:39:15.231389Z",
     "start_time": "2023-07-03T22:39:11.903730Z"
    }
   },
   "outputs": [],
   "source": [
    "#Garmin Health data analysis for @zrvila\n",
    "#this information is protected by HIPPA regulations in the United States\n",
    "#all data manipulations are my own\n",
    "\n",
    "#import packages\n",
    "import pandas as pd\n",
    "import json\n",
    "import seaborn as sns\n",
    "import matplotlib.pyplot as pt\n",
    "from scipy import stats\n",
    "import numpy as np"
   ]
  },
  {
   "cell_type": "code",
   "execution_count": 2,
   "id": "046a7a91",
   "metadata": {
    "ExecuteTime": {
     "end_time": "2023-07-03T22:39:15.469459Z",
     "start_time": "2023-07-03T22:39:15.235783Z"
    }
   },
   "outputs": [],
   "source": [
    "#read data\n",
    "with open('fitness_data.json', 'r') as f:\n",
    "    data = json.load(f)\n",
    "\n",
    "df = pd.json_normalize(data, sep='_', record_path='summarizedActivitiesExport')"
   ]
  },
  {
   "cell_type": "code",
   "execution_count": 3,
   "id": "7afdcf2a",
   "metadata": {
    "ExecuteTime": {
     "end_time": "2023-07-03T22:39:15.533049Z",
     "start_time": "2023-07-03T22:39:15.471209Z"
    }
   },
   "outputs": [
    {
     "data": {
      "text/html": [
       "<div>\n",
       "<style scoped>\n",
       "    .dataframe tbody tr th:only-of-type {\n",
       "        vertical-align: middle;\n",
       "    }\n",
       "\n",
       "    .dataframe tbody tr th {\n",
       "        vertical-align: top;\n",
       "    }\n",
       "\n",
       "    .dataframe thead th {\n",
       "        text-align: right;\n",
       "    }\n",
       "</style>\n",
       "<table border=\"1\" class=\"dataframe\">\n",
       "  <thead>\n",
       "    <tr style=\"text-align: right;\">\n",
       "      <th></th>\n",
       "      <th>activityId</th>\n",
       "      <th>uuidMsb</th>\n",
       "      <th>uuidLsb</th>\n",
       "      <th>name</th>\n",
       "      <th>activityType</th>\n",
       "      <th>userProfileId</th>\n",
       "      <th>timeZoneId</th>\n",
       "      <th>beginTimestamp</th>\n",
       "      <th>eventTypeId</th>\n",
       "      <th>rule</th>\n",
       "      <th>...</th>\n",
       "      <th>totalReps</th>\n",
       "      <th>strokes</th>\n",
       "      <th>avgStrokeCadence</th>\n",
       "      <th>maxStrokeCadence</th>\n",
       "      <th>description</th>\n",
       "      <th>surfaceInterval</th>\n",
       "      <th>avgVerticalSpeed</th>\n",
       "      <th>floorsClimbed</th>\n",
       "      <th>floorsDescended</th>\n",
       "      <th>jumpCount</th>\n",
       "    </tr>\n",
       "  </thead>\n",
       "  <tbody>\n",
       "    <tr>\n",
       "      <th>0</th>\n",
       "      <td>11262809838</td>\n",
       "      <td>6070234497669943244</td>\n",
       "      <td>-7333841656506997870</td>\n",
       "      <td>Cardio</td>\n",
       "      <td>indoor_cardio</td>\n",
       "      <td>103491132</td>\n",
       "      <td>149</td>\n",
       "      <td>1685819164000</td>\n",
       "      <td>9</td>\n",
       "      <td>private</td>\n",
       "      <td>...</td>\n",
       "      <td>NaN</td>\n",
       "      <td>NaN</td>\n",
       "      <td>NaN</td>\n",
       "      <td>NaN</td>\n",
       "      <td>NaN</td>\n",
       "      <td>NaN</td>\n",
       "      <td>NaN</td>\n",
       "      <td>NaN</td>\n",
       "      <td>NaN</td>\n",
       "      <td>NaN</td>\n",
       "    </tr>\n",
       "    <tr>\n",
       "      <th>1</th>\n",
       "      <td>11260073912</td>\n",
       "      <td>2361622545599316443</td>\n",
       "      <td>-4980467495421586172</td>\n",
       "      <td>Washington Walking</td>\n",
       "      <td>walking</td>\n",
       "      <td>103491132</td>\n",
       "      <td>149</td>\n",
       "      <td>1685796901000</td>\n",
       "      <td>9</td>\n",
       "      <td>private</td>\n",
       "      <td>...</td>\n",
       "      <td>NaN</td>\n",
       "      <td>NaN</td>\n",
       "      <td>NaN</td>\n",
       "      <td>NaN</td>\n",
       "      <td>NaN</td>\n",
       "      <td>NaN</td>\n",
       "      <td>NaN</td>\n",
       "      <td>NaN</td>\n",
       "      <td>NaN</td>\n",
       "      <td>NaN</td>\n",
       "    </tr>\n",
       "    <tr>\n",
       "      <th>2</th>\n",
       "      <td>11249377644</td>\n",
       "      <td>-5419875521236744512</td>\n",
       "      <td>-5363228732549423665</td>\n",
       "      <td>Washington Walking</td>\n",
       "      <td>walking</td>\n",
       "      <td>103491132</td>\n",
       "      <td>149</td>\n",
       "      <td>1685660662000</td>\n",
       "      <td>9</td>\n",
       "      <td>private</td>\n",
       "      <td>...</td>\n",
       "      <td>NaN</td>\n",
       "      <td>NaN</td>\n",
       "      <td>NaN</td>\n",
       "      <td>NaN</td>\n",
       "      <td>NaN</td>\n",
       "      <td>NaN</td>\n",
       "      <td>NaN</td>\n",
       "      <td>NaN</td>\n",
       "      <td>NaN</td>\n",
       "      <td>NaN</td>\n",
       "    </tr>\n",
       "    <tr>\n",
       "      <th>3</th>\n",
       "      <td>11249377622</td>\n",
       "      <td>-5351210222663219413</td>\n",
       "      <td>-6791563572441193286</td>\n",
       "      <td>Strength</td>\n",
       "      <td>strength_training</td>\n",
       "      <td>103491132</td>\n",
       "      <td>149</td>\n",
       "      <td>1685658824000</td>\n",
       "      <td>9</td>\n",
       "      <td>private</td>\n",
       "      <td>...</td>\n",
       "      <td>213.0</td>\n",
       "      <td>NaN</td>\n",
       "      <td>NaN</td>\n",
       "      <td>NaN</td>\n",
       "      <td>NaN</td>\n",
       "      <td>NaN</td>\n",
       "      <td>NaN</td>\n",
       "      <td>NaN</td>\n",
       "      <td>NaN</td>\n",
       "      <td>NaN</td>\n",
       "    </tr>\n",
       "    <tr>\n",
       "      <th>4</th>\n",
       "      <td>11249377600</td>\n",
       "      <td>5278913442662662999</td>\n",
       "      <td>-6728880016951054354</td>\n",
       "      <td>Indoor Rowing</td>\n",
       "      <td>indoor_rowing</td>\n",
       "      <td>103491132</td>\n",
       "      <td>149</td>\n",
       "      <td>1685657568000</td>\n",
       "      <td>9</td>\n",
       "      <td>private</td>\n",
       "      <td>...</td>\n",
       "      <td>NaN</td>\n",
       "      <td>290.0</td>\n",
       "      <td>29.0</td>\n",
       "      <td>32.0</td>\n",
       "      <td>NaN</td>\n",
       "      <td>NaN</td>\n",
       "      <td>NaN</td>\n",
       "      <td>NaN</td>\n",
       "      <td>NaN</td>\n",
       "      <td>NaN</td>\n",
       "    </tr>\n",
       "    <tr>\n",
       "      <th>...</th>\n",
       "      <td>...</td>\n",
       "      <td>...</td>\n",
       "      <td>...</td>\n",
       "      <td>...</td>\n",
       "      <td>...</td>\n",
       "      <td>...</td>\n",
       "      <td>...</td>\n",
       "      <td>...</td>\n",
       "      <td>...</td>\n",
       "      <td>...</td>\n",
       "      <td>...</td>\n",
       "      <td>...</td>\n",
       "      <td>...</td>\n",
       "      <td>...</td>\n",
       "      <td>...</td>\n",
       "      <td>...</td>\n",
       "      <td>...</td>\n",
       "      <td>...</td>\n",
       "      <td>...</td>\n",
       "      <td>...</td>\n",
       "      <td>...</td>\n",
       "    </tr>\n",
       "    <tr>\n",
       "      <th>480</th>\n",
       "      <td>8524280328</td>\n",
       "      <td>3768229068123688598</td>\n",
       "      <td>-6905048884489205162</td>\n",
       "      <td>Cardio</td>\n",
       "      <td>indoor_cardio</td>\n",
       "      <td>103491132</td>\n",
       "      <td>149</td>\n",
       "      <td>1648246694000</td>\n",
       "      <td>9</td>\n",
       "      <td>private</td>\n",
       "      <td>...</td>\n",
       "      <td>NaN</td>\n",
       "      <td>NaN</td>\n",
       "      <td>NaN</td>\n",
       "      <td>NaN</td>\n",
       "      <td>NaN</td>\n",
       "      <td>NaN</td>\n",
       "      <td>NaN</td>\n",
       "      <td>NaN</td>\n",
       "      <td>NaN</td>\n",
       "      <td>NaN</td>\n",
       "    </tr>\n",
       "    <tr>\n",
       "      <th>481</th>\n",
       "      <td>8512955123</td>\n",
       "      <td>1760650974809508993</td>\n",
       "      <td>-7318932983007623790</td>\n",
       "      <td>Strength</td>\n",
       "      <td>strength_training</td>\n",
       "      <td>103491132</td>\n",
       "      <td>149</td>\n",
       "      <td>1648074843000</td>\n",
       "      <td>9</td>\n",
       "      <td>private</td>\n",
       "      <td>...</td>\n",
       "      <td>168.0</td>\n",
       "      <td>NaN</td>\n",
       "      <td>NaN</td>\n",
       "      <td>NaN</td>\n",
       "      <td>NaN</td>\n",
       "      <td>NaN</td>\n",
       "      <td>NaN</td>\n",
       "      <td>NaN</td>\n",
       "      <td>NaN</td>\n",
       "      <td>NaN</td>\n",
       "    </tr>\n",
       "    <tr>\n",
       "      <th>482</th>\n",
       "      <td>8512955089</td>\n",
       "      <td>6973042079253089901</td>\n",
       "      <td>-9090310177072718653</td>\n",
       "      <td>Strength</td>\n",
       "      <td>strength_training</td>\n",
       "      <td>103491132</td>\n",
       "      <td>149</td>\n",
       "      <td>1648074558000</td>\n",
       "      <td>9</td>\n",
       "      <td>private</td>\n",
       "      <td>...</td>\n",
       "      <td>11.0</td>\n",
       "      <td>NaN</td>\n",
       "      <td>NaN</td>\n",
       "      <td>NaN</td>\n",
       "      <td>NaN</td>\n",
       "      <td>NaN</td>\n",
       "      <td>NaN</td>\n",
       "      <td>NaN</td>\n",
       "      <td>NaN</td>\n",
       "      <td>NaN</td>\n",
       "    </tr>\n",
       "    <tr>\n",
       "      <th>483</th>\n",
       "      <td>8512955037</td>\n",
       "      <td>-2086822224004757561</td>\n",
       "      <td>-9173643002903764797</td>\n",
       "      <td>Indoor Rowing</td>\n",
       "      <td>indoor_rowing</td>\n",
       "      <td>103491132</td>\n",
       "      <td>149</td>\n",
       "      <td>1648072520000</td>\n",
       "      <td>9</td>\n",
       "      <td>private</td>\n",
       "      <td>...</td>\n",
       "      <td>NaN</td>\n",
       "      <td>524.0</td>\n",
       "      <td>23.0</td>\n",
       "      <td>31.0</td>\n",
       "      <td>NaN</td>\n",
       "      <td>NaN</td>\n",
       "      <td>NaN</td>\n",
       "      <td>NaN</td>\n",
       "      <td>NaN</td>\n",
       "      <td>NaN</td>\n",
       "    </tr>\n",
       "    <tr>\n",
       "      <th>484</th>\n",
       "      <td>8486739579</td>\n",
       "      <td>-8999482907894592273</td>\n",
       "      <td>-5144521245109615285</td>\n",
       "      <td>Abs</td>\n",
       "      <td>indoor_cardio</td>\n",
       "      <td>103491132</td>\n",
       "      <td>149</td>\n",
       "      <td>1647637200000</td>\n",
       "      <td>8</td>\n",
       "      <td>private</td>\n",
       "      <td>...</td>\n",
       "      <td>NaN</td>\n",
       "      <td>NaN</td>\n",
       "      <td>NaN</td>\n",
       "      <td>NaN</td>\n",
       "      <td>Nice one</td>\n",
       "      <td>0.0</td>\n",
       "      <td>0.0</td>\n",
       "      <td>0.0</td>\n",
       "      <td>0.0</td>\n",
       "      <td>-1.0</td>\n",
       "    </tr>\n",
       "  </tbody>\n",
       "</table>\n",
       "<p>485 rows × 67 columns</p>\n",
       "</div>"
      ],
      "text/plain": [
       "      activityId              uuidMsb              uuidLsb  \\\n",
       "0    11262809838  6070234497669943244 -7333841656506997870   \n",
       "1    11260073912  2361622545599316443 -4980467495421586172   \n",
       "2    11249377644 -5419875521236744512 -5363228732549423665   \n",
       "3    11249377622 -5351210222663219413 -6791563572441193286   \n",
       "4    11249377600  5278913442662662999 -6728880016951054354   \n",
       "..           ...                  ...                  ...   \n",
       "480   8524280328  3768229068123688598 -6905048884489205162   \n",
       "481   8512955123  1760650974809508993 -7318932983007623790   \n",
       "482   8512955089  6973042079253089901 -9090310177072718653   \n",
       "483   8512955037 -2086822224004757561 -9173643002903764797   \n",
       "484   8486739579 -8999482907894592273 -5144521245109615285   \n",
       "\n",
       "                   name       activityType  userProfileId  timeZoneId  \\\n",
       "0                Cardio      indoor_cardio      103491132         149   \n",
       "1    Washington Walking            walking      103491132         149   \n",
       "2    Washington Walking            walking      103491132         149   \n",
       "3              Strength  strength_training      103491132         149   \n",
       "4         Indoor Rowing      indoor_rowing      103491132         149   \n",
       "..                  ...                ...            ...         ...   \n",
       "480              Cardio      indoor_cardio      103491132         149   \n",
       "481            Strength  strength_training      103491132         149   \n",
       "482            Strength  strength_training      103491132         149   \n",
       "483       Indoor Rowing      indoor_rowing      103491132         149   \n",
       "484                 Abs      indoor_cardio      103491132         149   \n",
       "\n",
       "     beginTimestamp  eventTypeId     rule  ... totalReps  strokes  \\\n",
       "0     1685819164000            9  private  ...       NaN      NaN   \n",
       "1     1685796901000            9  private  ...       NaN      NaN   \n",
       "2     1685660662000            9  private  ...       NaN      NaN   \n",
       "3     1685658824000            9  private  ...     213.0      NaN   \n",
       "4     1685657568000            9  private  ...       NaN    290.0   \n",
       "..              ...          ...      ...  ...       ...      ...   \n",
       "480   1648246694000            9  private  ...       NaN      NaN   \n",
       "481   1648074843000            9  private  ...     168.0      NaN   \n",
       "482   1648074558000            9  private  ...      11.0      NaN   \n",
       "483   1648072520000            9  private  ...       NaN    524.0   \n",
       "484   1647637200000            8  private  ...       NaN      NaN   \n",
       "\n",
       "     avgStrokeCadence  maxStrokeCadence  description  surfaceInterval  \\\n",
       "0                 NaN               NaN          NaN              NaN   \n",
       "1                 NaN               NaN          NaN              NaN   \n",
       "2                 NaN               NaN          NaN              NaN   \n",
       "3                 NaN               NaN          NaN              NaN   \n",
       "4                29.0              32.0          NaN              NaN   \n",
       "..                ...               ...          ...              ...   \n",
       "480               NaN               NaN          NaN              NaN   \n",
       "481               NaN               NaN          NaN              NaN   \n",
       "482               NaN               NaN          NaN              NaN   \n",
       "483              23.0              31.0          NaN              NaN   \n",
       "484               NaN               NaN     Nice one              0.0   \n",
       "\n",
       "     avgVerticalSpeed  floorsClimbed  floorsDescended  jumpCount  \n",
       "0                 NaN            NaN              NaN        NaN  \n",
       "1                 NaN            NaN              NaN        NaN  \n",
       "2                 NaN            NaN              NaN        NaN  \n",
       "3                 NaN            NaN              NaN        NaN  \n",
       "4                 NaN            NaN              NaN        NaN  \n",
       "..                ...            ...              ...        ...  \n",
       "480               NaN            NaN              NaN        NaN  \n",
       "481               NaN            NaN              NaN        NaN  \n",
       "482               NaN            NaN              NaN        NaN  \n",
       "483               NaN            NaN              NaN        NaN  \n",
       "484               0.0            0.0              0.0       -1.0  \n",
       "\n",
       "[485 rows x 67 columns]"
      ]
     },
     "execution_count": 3,
     "metadata": {},
     "output_type": "execute_result"
    }
   ],
   "source": [
    "df"
   ]
  },
  {
   "cell_type": "code",
   "execution_count": 4,
   "id": "b91d342b",
   "metadata": {
    "ExecuteTime": {
     "end_time": "2023-07-03T22:39:15.548507Z",
     "start_time": "2023-07-03T22:39:15.534328Z"
    }
   },
   "outputs": [
    {
     "data": {
      "text/plain": [
       "Index(['activityId', 'uuidMsb', 'uuidLsb', 'name', 'activityType',\n",
       "       'userProfileId', 'timeZoneId', 'beginTimestamp', 'eventTypeId', 'rule',\n",
       "       'sportType', 'startTimeGmt', 'startTimeLocal', 'duration', 'distance',\n",
       "       'elevationGain', 'elevationLoss', 'avgSpeed', 'avgHr', 'maxHr',\n",
       "       'calories', 'bmrCalories', 'avgFractionalCadence',\n",
       "       'maxFractionalCadence', 'elapsedDuration', 'movingDuration', 'deviceId',\n",
       "       'minElevation', 'maxElevation', 'maxVerticalSpeed', 'manufacturer',\n",
       "       'lapCount', 'waterEstimated', 'decoDive', 'purposeful',\n",
       "       'autoCalcCalories', 'favorite', 'pr', 'elevationCorrected',\n",
       "       'atpActivity', 'parent', 'maxSpeed', 'avgRunCadence', 'maxRunCadence',\n",
       "       'steps', 'startLongitude', 'startLatitude', 'avgStrideLength',\n",
       "       'vO2MaxValue', 'avgDoubleCadence', 'maxDoubleCadence', 'locationName',\n",
       "       'endLongitude', 'endLatitude', 'summarizedExerciseSets', 'activeSets',\n",
       "       'totalSets', 'totalReps', 'strokes', 'avgStrokeCadence',\n",
       "       'maxStrokeCadence', 'description', 'surfaceInterval',\n",
       "       'avgVerticalSpeed', 'floorsClimbed', 'floorsDescended', 'jumpCount'],\n",
       "      dtype='object')"
      ]
     },
     "execution_count": 4,
     "metadata": {},
     "output_type": "execute_result"
    }
   ],
   "source": [
    "df.columns"
   ]
  },
  {
   "cell_type": "code",
   "execution_count": 5,
   "id": "a141675e",
   "metadata": {
    "ExecuteTime": {
     "end_time": "2023-07-03T22:39:15.564467Z",
     "start_time": "2023-07-03T22:39:15.551680Z"
    }
   },
   "outputs": [],
   "source": [
    "df_cardio = df[df['activityType'] == 'indoor_cardio']\n",
    "df_str = df[df['activityType'] == 'strength_training']"
   ]
  },
  {
   "cell_type": "markdown",
   "id": "a40936f2",
   "metadata": {},
   "source": [
    "## Strength Training"
   ]
  },
  {
   "cell_type": "code",
   "execution_count": 6,
   "id": "6103ceee",
   "metadata": {
    "ExecuteTime": {
     "end_time": "2023-07-03T22:39:15.580322Z",
     "start_time": "2023-07-03T22:39:15.566454Z"
    }
   },
   "outputs": [
    {
     "data": {
      "text/plain": [
       "count    81.000000\n",
       "mean     13.666667\n",
       "std       3.798026\n",
       "min       1.000000\n",
       "25%      15.000000\n",
       "50%      15.000000\n",
       "75%      15.000000\n",
       "max      16.000000\n",
       "Name: totalSets, dtype: float64"
      ]
     },
     "execution_count": 6,
     "metadata": {},
     "output_type": "execute_result"
    }
   ],
   "source": [
    "df_str['totalSets'].describe()"
   ]
  },
  {
   "cell_type": "code",
   "execution_count": 7,
   "id": "cbc318de",
   "metadata": {
    "ExecuteTime": {
     "end_time": "2023-07-03T22:39:15.596328Z",
     "start_time": "2023-07-03T22:39:15.582817Z"
    }
   },
   "outputs": [
    {
     "data": {
      "text/plain": [
       "count     81.000000\n",
       "mean     196.061728\n",
       "std       59.592018\n",
       "min        7.000000\n",
       "25%      191.000000\n",
       "50%      213.000000\n",
       "75%      223.000000\n",
       "max      274.000000\n",
       "Name: totalReps, dtype: float64"
      ]
     },
     "execution_count": 7,
     "metadata": {},
     "output_type": "execute_result"
    }
   ],
   "source": [
    "df_str['totalReps'].describe()"
   ]
  },
  {
   "cell_type": "code",
   "execution_count": 8,
   "id": "95a3a0d6",
   "metadata": {
    "ExecuteTime": {
     "end_time": "2023-07-03T22:39:17.771591Z",
     "start_time": "2023-07-03T22:39:15.596328Z"
    }
   },
   "outputs": [
    {
     "ename": "AttributeError",
     "evalue": "'JointGrid' object has no attribute 'axes'",
     "output_type": "error",
     "traceback": [
      "\u001b[1;31m---------------------------------------------------------------------------\u001b[0m",
      "\u001b[1;31mAttributeError\u001b[0m                            Traceback (most recent call last)",
      "\u001b[1;32m~\\AppData\\Local\\Temp/ipykernel_13976/3962042164.py\u001b[0m in \u001b[0;36m<module>\u001b[1;34m\u001b[0m\n\u001b[0;32m      1\u001b[0m \u001b[0mplt\u001b[0m \u001b[1;33m=\u001b[0m \u001b[0msns\u001b[0m\u001b[1;33m.\u001b[0m\u001b[0mjointplot\u001b[0m\u001b[1;33m(\u001b[0m\u001b[0mdata\u001b[0m\u001b[1;33m=\u001b[0m\u001b[0mdf_str\u001b[0m\u001b[1;33m,\u001b[0m \u001b[0mx\u001b[0m\u001b[1;33m=\u001b[0m\u001b[1;34m\"totalReps\"\u001b[0m\u001b[1;33m,\u001b[0m \u001b[0my\u001b[0m\u001b[1;33m=\u001b[0m\u001b[1;34m\"totalSets\"\u001b[0m\u001b[1;33m)\u001b[0m\u001b[1;33m\u001b[0m\u001b[1;33m\u001b[0m\u001b[0m\n\u001b[1;32m----> 2\u001b[1;33m \u001b[0mplt\u001b[0m\u001b[1;33m.\u001b[0m\u001b[0mset\u001b[0m\u001b[1;33m(\u001b[0m\u001b[0mtitle\u001b[0m\u001b[1;33m=\u001b[0m\u001b[1;34m'Sets vs Reps'\u001b[0m\u001b[1;33m)\u001b[0m\u001b[1;33m\u001b[0m\u001b[1;33m\u001b[0m\u001b[0m\n\u001b[0m",
      "\u001b[1;32m~\\anaconda3\\lib\\site-packages\\seaborn\\axisgrid.py\u001b[0m in \u001b[0;36mset\u001b[1;34m(self, **kwargs)\u001b[0m\n\u001b[0;32m     34\u001b[0m     \u001b[1;32mdef\u001b[0m \u001b[0mset\u001b[0m\u001b[1;33m(\u001b[0m\u001b[0mself\u001b[0m\u001b[1;33m,\u001b[0m \u001b[1;33m**\u001b[0m\u001b[0mkwargs\u001b[0m\u001b[1;33m)\u001b[0m\u001b[1;33m:\u001b[0m\u001b[1;33m\u001b[0m\u001b[1;33m\u001b[0m\u001b[0m\n\u001b[0;32m     35\u001b[0m         \u001b[1;34m\"\"\"Set attributes on each subplot Axes.\"\"\"\u001b[0m\u001b[1;33m\u001b[0m\u001b[1;33m\u001b[0m\u001b[0m\n\u001b[1;32m---> 36\u001b[1;33m         \u001b[1;32mfor\u001b[0m \u001b[0max\u001b[0m \u001b[1;32min\u001b[0m \u001b[0mself\u001b[0m\u001b[1;33m.\u001b[0m\u001b[0maxes\u001b[0m\u001b[1;33m.\u001b[0m\u001b[0mflat\u001b[0m\u001b[1;33m:\u001b[0m\u001b[1;33m\u001b[0m\u001b[1;33m\u001b[0m\u001b[0m\n\u001b[0m\u001b[0;32m     37\u001b[0m             \u001b[1;32mif\u001b[0m \u001b[0max\u001b[0m \u001b[1;32mis\u001b[0m \u001b[1;32mnot\u001b[0m \u001b[1;32mNone\u001b[0m\u001b[1;33m:\u001b[0m  \u001b[1;31m# Handle removed axes\u001b[0m\u001b[1;33m\u001b[0m\u001b[1;33m\u001b[0m\u001b[0m\n\u001b[0;32m     38\u001b[0m                 \u001b[0max\u001b[0m\u001b[1;33m.\u001b[0m\u001b[0mset\u001b[0m\u001b[1;33m(\u001b[0m\u001b[1;33m**\u001b[0m\u001b[0mkwargs\u001b[0m\u001b[1;33m)\u001b[0m\u001b[1;33m\u001b[0m\u001b[1;33m\u001b[0m\u001b[0m\n",
      "\u001b[1;31mAttributeError\u001b[0m: 'JointGrid' object has no attribute 'axes'"
     ]
    },
    {
     "data": {
      "image/png": "[encoded data removed]",
      "text/plain": [
       "<Figure size 432x432 with 3 Axes>"
      ]
     },
     "metadata": {
      "needs_background": "light"
     },
     "output_type": "display_data"
    }
   ],
   "source": [
    "plt = sns.jointplot(data=df_str, x=\"totalReps\", y=\"totalSets\")\n",
    "plt.set(title='Sets vs Reps')"
   ]
  },
  {
   "cell_type": "code",
   "execution_count": 9,
   "id": "0f7e43d0",
   "metadata": {
    "ExecuteTime": {
     "end_time": "2023-07-03T22:39:34.340997Z",
     "start_time": "2023-07-03T22:39:34.309395Z"
    }
   },
   "outputs": [
    {
     "data": {
      "text/plain": [
       "count     81.000000\n",
       "mean     131.135802\n",
       "std        9.579605\n",
       "min      106.000000\n",
       "25%      125.000000\n",
       "50%      132.000000\n",
       "75%      137.000000\n",
       "max      166.000000\n",
       "Name: avgHr, dtype: float64"
      ]
     },
     "execution_count": 9,
     "metadata": {},
     "output_type": "execute_result"
    }
   ],
   "source": [
    "df_str['avgHr'].describe()"
   ]
  },
  {
   "cell_type": "code",
   "execution_count": 10,
   "id": "11cee46e",
   "metadata": {
    "ExecuteTime": {
     "end_time": "2023-07-03T22:39:35.816120Z",
     "start_time": "2023-07-03T22:39:35.796973Z"
    }
   },
   "outputs": [
    {
     "data": {
      "text/plain": [
       "count     81.000000\n",
       "mean     155.629630\n",
       "std       10.322844\n",
       "min      128.000000\n",
       "25%      148.000000\n",
       "50%      156.000000\n",
       "75%      162.000000\n",
       "max      183.000000\n",
       "Name: maxHr, dtype: float64"
      ]
     },
     "execution_count": 10,
     "metadata": {},
     "output_type": "execute_result"
    }
   ],
   "source": [
    "df_str['maxHr'].describe()"
   ]
  },
  {
   "cell_type": "code",
   "execution_count": 11,
   "id": "d3f6bab3",
   "metadata": {
    "ExecuteTime": {
     "end_time": "2023-07-03T22:39:38.224981Z",
     "start_time": "2023-07-03T22:39:37.329239Z"
    }
   },
   "outputs": [
    {
     "data": {
      "text/plain": [
       "<seaborn.axisgrid.FacetGrid at 0x1f54ca363a0>"
      ]
     },
     "execution_count": 11,
     "metadata": {},
     "output_type": "execute_result"
    },
    {
     "data": {
      "image/png": "[encoded data removed]",
      "text/plain": [
       "<Figure size 360x360 with 1 Axes>"
      ]
     },
     "metadata": {
      "needs_background": "light"
     },
     "output_type": "display_data"
    }
   ],
   "source": [
    "sns.displot(df_str, x=\"avgHr\").set(title='Average ST Heart Rate')"
   ]
  },
  {
   "cell_type": "code",
   "execution_count": 12,
   "id": "b67a804e",
   "metadata": {
    "ExecuteTime": {
     "end_time": "2023-07-03T22:39:39.755740Z",
     "start_time": "2023-07-03T22:39:39.331079Z"
    }
   },
   "outputs": [
    {
     "data": {
      "text/plain": [
       "<seaborn.axisgrid.FacetGrid at 0x1f54caabca0>"
      ]
     },
     "execution_count": 12,
     "metadata": {},
     "output_type": "execute_result"
    },
    {
     "data": {
      "image/png": "[encoded data removed]",
      "text/plain": [
       "<Figure size 360x360 with 1 Axes>"
      ]
     },
     "metadata": {
      "needs_background": "light"
     },
     "output_type": "display_data"
    }
   ],
   "source": [
    "sns.displot(df_str, x=\"maxHr\").set(title='Maximum ST Heart Rate')"
   ]
  },
  {
   "cell_type": "code",
   "execution_count": 13,
   "id": "c6cf237f",
   "metadata": {
    "ExecuteTime": {
     "end_time": "2023-07-03T22:39:40.942880Z",
     "start_time": "2023-07-03T22:39:40.456155Z"
    }
   },
   "outputs": [
    {
     "data": {
      "text/plain": [
       "<seaborn.axisgrid.FacetGrid at 0x1f54cb12e20>"
      ]
     },
     "execution_count": 13,
     "metadata": {},
     "output_type": "execute_result"
    },
    {
     "data": {
      "image/png": "[encoded data removed]",
      "text/plain": [
       "<Figure size 360x360 with 1 Axes>"
      ]
     },
     "metadata": {
      "needs_background": "light"
     },
     "output_type": "display_data"
    }
   ],
   "source": [
    "sns.displot(df_str, x=\"avgHr\", kind=\"kde\", color='red').set(title='Average ST Heart Rate Distribution')"
   ]
  },
  {
   "cell_type": "code",
   "execution_count": 14,
   "id": "80111cf3",
   "metadata": {
    "ExecuteTime": {
     "end_time": "2023-07-03T22:39:42.052542Z",
     "start_time": "2023-07-03T22:39:41.592198Z"
    }
   },
   "outputs": [
    {
     "data": {
      "text/plain": [
       "<seaborn.axisgrid.FacetGrid at 0x1f54cbf1190>"
      ]
     },
     "execution_count": 14,
     "metadata": {},
     "output_type": "execute_result"
    },
    {
     "data": {
      "image/png": "[encoded data removed]",
      "text/plain": [
       "<Figure size 360x360 with 1 Axes>"
      ]
     },
     "metadata": {
      "needs_background": "light"
     },
     "output_type": "display_data"
    }
   ],
   "source": [
    "sns.displot(df_str, x=\"maxHr\", kind=\"kde\", color='red').set(title='Max ST Heart Rate Distribution')"
   ]
  },
  {
   "cell_type": "markdown",
   "id": "2e05235f",
   "metadata": {},
   "source": [
    "## Cardio Training"
   ]
  },
  {
   "cell_type": "code",
   "execution_count": 15,
   "id": "a190e0b9",
   "metadata": {
    "ExecuteTime": {
     "end_time": "2023-07-03T22:39:42.684741Z",
     "start_time": "2023-07-03T22:39:42.637909Z"
    }
   },
   "outputs": [
    {
     "data": {
      "text/plain": [
       "count     69.000000\n",
       "mean     113.863106\n",
       "std       13.505755\n",
       "min       80.000000\n",
       "25%      103.000000\n",
       "50%      117.000000\n",
       "75%      125.000000\n",
       "max      139.000000\n",
       "Name: avgHr, dtype: float64"
      ]
     },
     "execution_count": 15,
     "metadata": {},
     "output_type": "execute_result"
    }
   ],
   "source": [
    "df_cardio['avgHr'].describe()"
   ]
  },
  {
   "cell_type": "code",
   "execution_count": 16,
   "id": "a0c79e14",
   "metadata": {
    "ExecuteTime": {
     "end_time": "2023-07-03T22:39:43.335450Z",
     "start_time": "2023-07-03T22:39:43.308910Z"
    }
   },
   "outputs": [
    {
     "data": {
      "text/plain": [
       "count     69.000000\n",
       "mean     153.420290\n",
       "std       11.228124\n",
       "min      125.000000\n",
       "25%      148.000000\n",
       "50%      154.000000\n",
       "75%      159.000000\n",
       "max      181.000000\n",
       "Name: maxHr, dtype: float64"
      ]
     },
     "execution_count": 16,
     "metadata": {},
     "output_type": "execute_result"
    }
   ],
   "source": [
    "df_cardio['maxHr'].describe()"
   ]
  },
  {
   "cell_type": "code",
   "execution_count": 17,
   "id": "c51bd041",
   "metadata": {
    "ExecuteTime": {
     "end_time": "2023-07-03T22:39:44.665949Z",
     "start_time": "2023-07-03T22:39:44.035895Z"
    }
   },
   "outputs": [
    {
     "data": {
      "text/plain": [
       "<seaborn.axisgrid.FacetGrid at 0x1f54dc29760>"
      ]
     },
     "execution_count": 17,
     "metadata": {},
     "output_type": "execute_result"
    },
    {
     "data": {
      "image/png": "[encoded data removed]",
      "text/plain": [
       "<Figure size 360x360 with 1 Axes>"
      ]
     },
     "metadata": {
      "needs_background": "light"
     },
     "output_type": "display_data"
    }
   ],
   "source": [
    "sns.displot(df_cardio, x=\"avgHr\").set(title='Average Cardio Heart Rate')"
   ]
  },
  {
   "cell_type": "code",
   "execution_count": 18,
   "id": "983a2d3f",
   "metadata": {
    "ExecuteTime": {
     "end_time": "2023-07-03T22:39:47.011430Z",
     "start_time": "2023-07-03T22:39:46.535383Z"
    }
   },
   "outputs": [
    {
     "data": {
      "text/plain": [
       "<seaborn.axisgrid.FacetGrid at 0x1f54cbea100>"
      ]
     },
     "execution_count": 18,
     "metadata": {},
     "output_type": "execute_result"
    },
    {
     "data": {
      "image/png": "[encoded data removed]",
      "text/plain": [
       "<Figure size 360x360 with 1 Axes>"
      ]
     },
     "metadata": {
      "needs_background": "light"
     },
     "output_type": "display_data"
    }
   ],
   "source": [
    "sns.displot(df_cardio, x=\"maxHr\").set(title='Maximum Cardio Heart Rate')"
   ]
  },
  {
   "cell_type": "code",
   "execution_count": 19,
   "id": "c209ffb0",
   "metadata": {
    "ExecuteTime": {
     "end_time": "2023-07-03T22:39:48.119897Z",
     "start_time": "2023-07-03T22:39:47.543557Z"
    }
   },
   "outputs": [
    {
     "data": {
      "text/plain": [
       "<seaborn.axisgrid.FacetGrid at 0x1f54dc89130>"
      ]
     },
     "execution_count": 19,
     "metadata": {},
     "output_type": "execute_result"
    },
    {
     "data": {
      "image/png": "[encoded data removed]",
      "text/plain": [
       "<Figure size 360x360 with 1 Axes>"
      ]
     },
     "metadata": {
      "needs_background": "light"
     },
     "output_type": "display_data"
    }
   ],
   "source": [
    "sns.displot(df_cardio, x=\"avgHr\", kind=\"kde\",color='red').set(title='Average Cardio Heart Rate Distribution')"
   ]
  },
  {
   "cell_type": "code",
   "execution_count": 20,
   "id": "f27cf8b7",
   "metadata": {
    "ExecuteTime": {
     "end_time": "2023-07-03T22:39:49.294205Z",
     "start_time": "2023-07-03T22:39:48.819182Z"
    }
   },
   "outputs": [
    {
     "data": {
      "text/plain": [
       "<seaborn.axisgrid.FacetGrid at 0x1f54cbea3a0>"
      ]
     },
     "execution_count": 20,
     "metadata": {},
     "output_type": "execute_result"
    },
    {
     "data": {
      "image/png": "[encoded data removed]",
      "text/plain": [
       "<Figure size 360x360 with 1 Axes>"
      ]
     },
     "metadata": {
      "needs_background": "light"
     },
     "output_type": "display_data"
    }
   ],
   "source": [
    "sns.displot(df_cardio, x=\"maxHr\", kind=\"kde\",color='red').set(title='Max Cardio Heart Rate Distribution')"
   ]
  },
  {
   "cell_type": "markdown",
   "id": "015ae2f6",
   "metadata": {},
   "source": [
    "### Indoor Rowing ('Erg')"
   ]
  },
  {
   "cell_type": "code",
   "execution_count": 24,
   "id": "e51888ec",
   "metadata": {
    "ExecuteTime": {
     "end_time": "2023-07-03T22:40:06.024943Z",
     "start_time": "2023-07-03T22:40:05.224131Z"
    }
   },
   "outputs": [
    {
     "ename": "AttributeError",
     "evalue": "'JointGrid' object has no attribute 'axes'",
     "output_type": "error",
     "traceback": [
      "\u001b[1;31m---------------------------------------------------------------------------\u001b[0m",
      "\u001b[1;31mAttributeError\u001b[0m                            Traceback (most recent call last)",
      "\u001b[1;32m~\\AppData\\Local\\Temp/ipykernel_13976/793570501.py\u001b[0m in \u001b[0;36m<module>\u001b[1;34m\u001b[0m\n\u001b[0;32m      1\u001b[0m \u001b[0mstrokes_df\u001b[0m \u001b[1;33m=\u001b[0m \u001b[0mdf\u001b[0m\u001b[1;33m.\u001b[0m\u001b[0mdropna\u001b[0m\u001b[1;33m(\u001b[0m\u001b[0msubset\u001b[0m\u001b[1;33m=\u001b[0m\u001b[1;33m[\u001b[0m\u001b[1;34m'strokes'\u001b[0m\u001b[1;33m]\u001b[0m\u001b[1;33m,\u001b[0m \u001b[0minplace\u001b[0m\u001b[1;33m=\u001b[0m\u001b[1;32mFalse\u001b[0m\u001b[1;33m)\u001b[0m\u001b[1;33m\u001b[0m\u001b[1;33m\u001b[0m\u001b[0m\n\u001b[1;32m----> 2\u001b[1;33m \u001b[0mplt\u001b[0m \u001b[1;33m=\u001b[0m \u001b[0msns\u001b[0m\u001b[1;33m.\u001b[0m\u001b[0mjointplot\u001b[0m\u001b[1;33m(\u001b[0m\u001b[0mdata\u001b[0m\u001b[1;33m=\u001b[0m\u001b[0mstrokes_df\u001b[0m\u001b[1;33m,\u001b[0m \u001b[0mx\u001b[0m\u001b[1;33m=\u001b[0m\u001b[1;34m\"avgHr\"\u001b[0m\u001b[1;33m,\u001b[0m \u001b[0my\u001b[0m\u001b[1;33m=\u001b[0m\u001b[1;34m\"avgStrokeCadence\"\u001b[0m\u001b[1;33m)\u001b[0m\u001b[1;33m.\u001b[0m\u001b[0mset\u001b[0m\u001b[1;33m(\u001b[0m\u001b[0mtitle\u001b[0m\u001b[1;33m=\u001b[0m\u001b[1;34m'Erg Strokes/Min vs. Average HR'\u001b[0m\u001b[1;33m)\u001b[0m\u001b[1;33m\u001b[0m\u001b[1;33m\u001b[0m\u001b[0m\n\u001b[0m",
      "\u001b[1;32m~\\anaconda3\\lib\\site-packages\\seaborn\\axisgrid.py\u001b[0m in \u001b[0;36mset\u001b[1;34m(self, **kwargs)\u001b[0m\n\u001b[0;32m     34\u001b[0m     \u001b[1;32mdef\u001b[0m \u001b[0mset\u001b[0m\u001b[1;33m(\u001b[0m\u001b[0mself\u001b[0m\u001b[1;33m,\u001b[0m \u001b[1;33m**\u001b[0m\u001b[0mkwargs\u001b[0m\u001b[1;33m)\u001b[0m\u001b[1;33m:\u001b[0m\u001b[1;33m\u001b[0m\u001b[1;33m\u001b[0m\u001b[0m\n\u001b[0;32m     35\u001b[0m         \u001b[1;34m\"\"\"Set attributes on each subplot Axes.\"\"\"\u001b[0m\u001b[1;33m\u001b[0m\u001b[1;33m\u001b[0m\u001b[0m\n\u001b[1;32m---> 36\u001b[1;33m         \u001b[1;32mfor\u001b[0m \u001b[0max\u001b[0m \u001b[1;32min\u001b[0m \u001b[0mself\u001b[0m\u001b[1;33m.\u001b[0m\u001b[0maxes\u001b[0m\u001b[1;33m.\u001b[0m\u001b[0mflat\u001b[0m\u001b[1;33m:\u001b[0m\u001b[1;33m\u001b[0m\u001b[1;33m\u001b[0m\u001b[0m\n\u001b[0m\u001b[0;32m     37\u001b[0m             \u001b[1;32mif\u001b[0m \u001b[0max\u001b[0m \u001b[1;32mis\u001b[0m \u001b[1;32mnot\u001b[0m \u001b[1;32mNone\u001b[0m\u001b[1;33m:\u001b[0m  \u001b[1;31m# Handle removed axes\u001b[0m\u001b[1;33m\u001b[0m\u001b[1;33m\u001b[0m\u001b[0m\n\u001b[0;32m     38\u001b[0m                 \u001b[0max\u001b[0m\u001b[1;33m.\u001b[0m\u001b[0mset\u001b[0m\u001b[1;33m(\u001b[0m\u001b[1;33m**\u001b[0m\u001b[0mkwargs\u001b[0m\u001b[1;33m)\u001b[0m\u001b[1;33m\u001b[0m\u001b[1;33m\u001b[0m\u001b[0m\n",
      "\u001b[1;31mAttributeError\u001b[0m: 'JointGrid' object has no attribute 'axes'"
     ]
    },
    {
     "data": {
      "image/png": "[encoded data removed]",
      "text/plain": [
       "<Figure size 432x432 with 3 Axes>"
      ]
     },
     "metadata": {
      "needs_background": "light"
     },
     "output_type": "display_data"
    }
   ],
   "source": [
    "strokes_df = df.dropna(subset=['strokes'], inplace=False)\n",
    "plt = sns.jointplot(data=strokes_df, x=\"avgHr\", y=\"avgStrokeCadence\").set(title='Erg Strokes/Min vs. Average HR')"
   ]
  },
  {
   "cell_type": "code",
   "execution_count": 25,
   "id": "8098f6fd",
   "metadata": {
    "ExecuteTime": {
     "end_time": "2023-07-03T22:40:08.164627Z",
     "start_time": "2023-07-03T22:40:08.129187Z"
    }
   },
   "outputs": [
    {
     "data": {
      "text/plain": [
       "count     74.000000\n",
       "mean     348.783784\n",
       "std       97.200861\n",
       "min      215.000000\n",
       "25%      280.250000\n",
       "50%      302.500000\n",
       "75%      381.250000\n",
       "max      539.000000\n",
       "Name: strokes, dtype: float64"
      ]
     },
     "execution_count": 25,
     "metadata": {},
     "output_type": "execute_result"
    }
   ],
   "source": [
    "strokes_df['strokes'].describe()"
   ]
  },
  {
   "cell_type": "code",
   "execution_count": 26,
   "id": "83718300",
   "metadata": {
    "ExecuteTime": {
     "end_time": "2023-07-03T22:40:09.918741Z",
     "start_time": "2023-07-03T22:40:09.890957Z"
    }
   },
   "outputs": [
    {
     "data": {
      "text/plain": [
       "count    74.000000\n",
       "mean     25.459459\n",
       "std       1.888605\n",
       "min      22.000000\n",
       "25%      24.000000\n",
       "50%      25.000000\n",
       "75%      27.000000\n",
       "max      30.000000\n",
       "Name: avgStrokeCadence, dtype: float64"
      ]
     },
     "execution_count": 26,
     "metadata": {},
     "output_type": "execute_result"
    }
   ],
   "source": [
    "strokes_df['avgStrokeCadence'].describe()"
   ]
  },
  {
   "cell_type": "code",
   "execution_count": 27,
   "id": "5ec0aede",
   "metadata": {
    "ExecuteTime": {
     "end_time": "2023-07-03T22:40:17.290324Z",
     "start_time": "2023-07-03T22:40:16.865585Z"
    }
   },
   "outputs": [
    {
     "data": {
      "text/plain": [
       "<seaborn.axisgrid.FacetGrid at 0x1f54df4eac0>"
      ]
     },
     "execution_count": 27,
     "metadata": {},
     "output_type": "execute_result"
    },
    {
     "data": {
      "image/png": "[encoded data removed]",
      "text/plain": [
       "<Figure size 360x360 with 1 Axes>"
      ]
     },
     "metadata": {
      "needs_background": "light"
     },
     "output_type": "display_data"
    }
   ],
   "source": [
    "sns.displot(strokes_df, x='avgStrokeCadence').set(title='AVG Strokes Per Min')"
   ]
  },
  {
   "cell_type": "code",
   "execution_count": 28,
   "id": "67d85e14",
   "metadata": {
    "ExecuteTime": {
     "end_time": "2023-07-03T22:40:18.791734Z",
     "start_time": "2023-07-03T22:40:18.243731Z"
    }
   },
   "outputs": [
    {
     "data": {
      "text/plain": [
       "<seaborn.axisgrid.FacetGrid at 0x1f54df9ebb0>"
      ]
     },
     "execution_count": 28,
     "metadata": {},
     "output_type": "execute_result"
    },
    {
     "data": {
      "image/png": "[encoded data removed]",
      "text/plain": [
       "<Figure size 360x360 with 1 Axes>"
      ]
     },
     "metadata": {
      "needs_background": "light"
     },
     "output_type": "display_data"
    }
   ],
   "source": [
    "sns.displot(strokes_df, x='avgStrokeCadence', kind=\"kde\",color='red').set(title='AVG Strokes per Minute Distribution')"
   ]
  },
  {
   "cell_type": "markdown",
   "id": "47399c9f",
   "metadata": {},
   "source": [
    "## Summary Information"
   ]
  },
  {
   "cell_type": "code",
   "execution_count": 29,
   "id": "d36eedc9",
   "metadata": {
    "ExecuteTime": {
     "end_time": "2023-07-03T22:40:20.440484Z",
     "start_time": "2023-07-03T22:40:19.886485Z"
    }
   },
   "outputs": [
    {
     "data": {
      "text/plain": [
       "[Text(0.5, 1.0, 'Activities by Averge HR')]"
      ]
     },
     "execution_count": 29,
     "metadata": {},
     "output_type": "execute_result"
    },
    {
     "data": {
      "image/png": "[encoded data removed]",
      "text/plain": [
       "<Figure size 432x288 with 1 Axes>"
      ]
     },
     "metadata": {
      "needs_background": "light"
     },
     "output_type": "display_data"
    }
   ],
   "source": [
    "plt = sns.boxplot(x='activityType', y='avgHr', data=df)\n",
    "plt.set_xticklabels(plt.get_xticklabels(), rotation=90)\n",
    "plt.set(title='Activities by Averge HR')"
   ]
  },
  {
   "cell_type": "code",
   "execution_count": 30,
   "id": "692b7487",
   "metadata": {
    "ExecuteTime": {
     "end_time": "2023-07-03T22:40:22.211378Z",
     "start_time": "2023-07-03T22:40:21.553601Z"
    }
   },
   "outputs": [
    {
     "data": {
      "text/plain": [
       "[Text(0.5, 1.0, 'Sports by Averge HR')]"
      ]
     },
     "execution_count": 30,
     "metadata": {},
     "output_type": "execute_result"
    },
    {
     "data": {
      "image/png": "[encoded data removed]",
      "text/plain": [
       "<Figure size 432x288 with 1 Axes>"
      ]
     },
     "metadata": {
      "needs_background": "light"
     },
     "output_type": "display_data"
    }
   ],
   "source": [
    "plt = sns.boxplot(x='sportType', y='avgHr', data=df)\n",
    "plt.set_xticklabels(plt.get_xticklabels(), rotation=90)\n",
    "plt.set(title='Sports by Averge HR')"
   ]
  },
  {
   "cell_type": "code",
   "execution_count": 31,
   "id": "4ffea8f3",
   "metadata": {
    "ExecuteTime": {
     "end_time": "2023-07-03T22:40:23.556044Z",
     "start_time": "2023-07-03T22:40:22.986842Z"
    }
   },
   "outputs": [
    {
     "data": {
      "text/plain": [
       "[Text(0.5, 1.0, 'Sports by Duration')]"
      ]
     },
     "execution_count": 31,
     "metadata": {},
     "output_type": "execute_result"
    },
    {
     "data": {
      "image/png": "[encoded data removed]",
      "text/plain": [
       "<Figure size 432x288 with 1 Axes>"
      ]
     },
     "metadata": {
      "needs_background": "light"
     },
     "output_type": "display_data"
    }
   ],
   "source": [
    "plt = sns.boxplot(x='sportType', y='duration', data=df)\n",
    "plt.set_xticklabels(plt.get_xticklabels(), rotation=90)\n",
    "plt.set(title='Sports by Duration')"
   ]
  },
  {
   "cell_type": "markdown",
   "id": "15470ef9",
   "metadata": {},
   "source": [
    "### Exercise Type Drilldown"
   ]
  },
  {
   "cell_type": "code",
   "execution_count": 32,
   "id": "be946944",
   "metadata": {
    "ExecuteTime": {
     "end_time": "2023-07-03T22:40:24.460218Z",
     "start_time": "2023-07-03T22:40:24.412347Z"
    }
   },
   "outputs": [
    {
     "data": {
      "text/html": [
       "<div>\n",
       "<style scoped>\n",
       "    .dataframe tbody tr th:only-of-type {\n",
       "        vertical-align: middle;\n",
       "    }\n",
       "\n",
       "    .dataframe tbody tr th {\n",
       "        vertical-align: top;\n",
       "    }\n",
       "\n",
       "    .dataframe thead th {\n",
       "        text-align: right;\n",
       "    }\n",
       "</style>\n",
       "<table border=\"1\" class=\"dataframe\">\n",
       "  <thead>\n",
       "    <tr style=\"text-align: right;\">\n",
       "      <th></th>\n",
       "      <th>reps</th>\n",
       "      <th>volume</th>\n",
       "      <th>duration</th>\n",
       "      <th>sets</th>\n",
       "    </tr>\n",
       "  </thead>\n",
       "  <tbody>\n",
       "    <tr>\n",
       "      <th>count</th>\n",
       "      <td>329.000000</td>\n",
       "      <td>3.290000e+02</td>\n",
       "      <td>329.000000</td>\n",
       "      <td>329.000000</td>\n",
       "    </tr>\n",
       "    <tr>\n",
       "      <th>mean</th>\n",
       "      <td>48.270517</td>\n",
       "      <td>1.870643e+05</td>\n",
       "      <td>163781.592614</td>\n",
       "      <td>3.364742</td>\n",
       "    </tr>\n",
       "    <tr>\n",
       "      <th>std</th>\n",
       "      <td>36.627697</td>\n",
       "      <td>4.547797e+05</td>\n",
       "      <td>116813.083788</td>\n",
       "      <td>2.261981</td>\n",
       "    </tr>\n",
       "    <tr>\n",
       "      <th>min</th>\n",
       "      <td>1.000000</td>\n",
       "      <td>0.000000e+00</td>\n",
       "      <td>7293.000221</td>\n",
       "      <td>1.000000</td>\n",
       "    </tr>\n",
       "    <tr>\n",
       "      <th>25%</th>\n",
       "      <td>21.000000</td>\n",
       "      <td>0.000000e+00</td>\n",
       "      <td>92546.001434</td>\n",
       "      <td>2.000000</td>\n",
       "    </tr>\n",
       "    <tr>\n",
       "      <th>50%</th>\n",
       "      <td>32.000000</td>\n",
       "      <td>0.000000e+00</td>\n",
       "      <td>137074.001312</td>\n",
       "      <td>3.000000</td>\n",
       "    </tr>\n",
       "    <tr>\n",
       "      <th>75%</th>\n",
       "      <td>71.000000</td>\n",
       "      <td>2.175000e+05</td>\n",
       "      <td>201602.000237</td>\n",
       "      <td>4.000000</td>\n",
       "    </tr>\n",
       "    <tr>\n",
       "      <th>max</th>\n",
       "      <td>159.000000</td>\n",
       "      <td>3.626456e+06</td>\n",
       "      <td>711732.994080</td>\n",
       "      <td>13.000000</td>\n",
       "    </tr>\n",
       "  </tbody>\n",
       "</table>\n",
       "</div>"
      ],
      "text/plain": [
       "             reps        volume       duration        sets\n",
       "count  329.000000  3.290000e+02     329.000000  329.000000\n",
       "mean    48.270517  1.870643e+05  163781.592614    3.364742\n",
       "std     36.627697  4.547797e+05  116813.083788    2.261981\n",
       "min      1.000000  0.000000e+00    7293.000221    1.000000\n",
       "25%     21.000000  0.000000e+00   92546.001434    2.000000\n",
       "50%     32.000000  0.000000e+00  137074.001312    3.000000\n",
       "75%     71.000000  2.175000e+05  201602.000237    4.000000\n",
       "max    159.000000  3.626456e+06  711732.994080   13.000000"
      ]
     },
     "execution_count": 32,
     "metadata": {},
     "output_type": "execute_result"
    }
   ],
   "source": [
    "exercises_df = df['summarizedExerciseSets'].explode()\n",
    "exercises_df = pd.json_normalize(exercises_df)\n",
    "exercises_df = exercises_df.dropna(how='all', inplace=False)\n",
    "\n",
    "exercises_df.describe()"
   ]
  },
  {
   "cell_type": "code",
   "execution_count": 33,
   "id": "3aad437b",
   "metadata": {
    "ExecuteTime": {
     "end_time": "2023-07-03T22:40:25.907579Z",
     "start_time": "2023-07-03T22:40:25.348199Z"
    }
   },
   "outputs": [
    {
     "data": {
      "text/plain": [
       "[Text(0.5, 1.0, 'Workout Reps')]"
      ]
     },
     "execution_count": 33,
     "metadata": {},
     "output_type": "execute_result"
    },
    {
     "data": {
      "image/png": "[encoded data removed]",
      "text/plain": [
       "<Figure size 432x288 with 1 Axes>"
      ]
     },
     "metadata": {
      "needs_background": "light"
     },
     "output_type": "display_data"
    }
   ],
   "source": [
    "exercises_df = exercises_df[exercises_df['category'] != 'UNKNOWN']\n",
    "\n",
    "plt = sns.boxplot(x='category', y='reps', data=exercises_df)\n",
    "plt.set_xticklabels(plt.get_xticklabels(), rotation=90)\n",
    "plt.set(title='Workout Reps')"
   ]
  }
 ],
 "metadata": {
  "hide_input": false,
  "kernelspec": {
   "display_name": "Python 3 (ipykernel)",
   "language": "python",
   "name": "python3"
  },
  "language_info": {
   "codemirror_mode": {
    "name": "ipython",
    "version": 3
   },
   "file_extension": ".py",
   "mimetype": "text/x-python",
   "name": "python",
   "nbconvert_exporter": "python",
   "pygments_lexer": "ipython3",
   "version": "3.9.7"
  },
  "latex_envs": {
   "LaTeX_envs_menu_present": true,
   "autoclose": false,
   "autocomplete": true,
   "bibliofile": "biblio.bib",
   "cite_by": "apalike",
   "current_citInitial": 1,
   "eqLabelWithNumbers": true,
   "eqNumInitial": 1,
   "hotkeys": {
    "equation": "Ctrl-E",
    "itemize": "Ctrl-I"
   },
   "labels_anchors": false,
   "latex_user_defs": false,
   "report_style_numbering": false,
   "user_envs_cfg": false
  },
  "nbTranslate": {
   "displayLangs": [
    "*"
   ],
   "hotkey": "alt-t",
   "langInMainMenu": true,
   "sourceLang": "en",
   "targetLang": "fr",
   "useGoogleTranslate": true
  },
  "toc": {
   "base_numbering": 1,
   "nav_menu": {},
   "number_sections": true,
   "sideBar": true,
   "skip_h1_title": false,
   "title_cell": "Table of Contents",
   "title_sidebar": "Contents",
   "toc_cell": false,
   "toc_position": {},
   "toc_section_display": true,
   "toc_window_display": false
  },
  "varInspector": {
   "cols": {
    "lenName": 16,
    "lenType": 16,
    "lenVar": 40
   },
   "kernels_config": {
    "python": {
     "delete_cmd_postfix": "",
     "delete_cmd_prefix": "del ",
     "library": "var_list.py",
     "varRefreshCmd": "print(var_dic_list())"
    },
    "r": {
     "delete_cmd_postfix": ") ",
     "delete_cmd_prefix": "rm(",
     "library": "var_list.r",
     "varRefreshCmd": "cat(var_dic_list()) "
    }
   },
   "types_to_exclude": [
    "module",
    "function",
    "builtin_function_or_method",
    "instance",
    "_Feature"
   ],
   "window_display": true
  }
 },
 "nbformat": 4,
 "nbformat_minor": 5
}
