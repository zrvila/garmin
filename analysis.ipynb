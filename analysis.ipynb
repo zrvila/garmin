{
 "cells": [
  {
   "cell_type": "code",
   "execution_count": 48,
   "id": "75e0934d",
   "metadata": {
    "ExecuteTime": {
     "end_time": "2023-06-04T22:52:27.798399Z",
     "start_time": "2023-06-04T22:52:18.083926Z"
    }
   },
   "outputs": [],
   "source": [
    "#Garmin Health data analysis for @zrvila\n",
    "#this information is protected by HIPPA regulations in the United States\n",
    "#all data manipulations are my own\n",
    "\n",
    "#import packages\n",
    "import pandas as pd\n",
    "import json\n",
    "import seaborn as sns"
   ]
  },
  {
   "cell_type": "code",
   "execution_count": 74,
   "id": "046a7a91",
   "metadata": {
    "ExecuteTime": {
     "end_time": "2023-06-04T23:08:48.720799Z",
     "start_time": "2023-06-04T23:08:48.571073Z"
    }
   },
   "outputs": [],
   "source": [
    "#read data\n",
    "with open('fitness_data.json', 'r') as f:\n",
    "    data = json.load(f)\n",
    "\n",
    "df = pd.json_normalize(data, sep='_', record_path='summarizedActivitiesExport')"
   ]
  },
  {
   "cell_type": "code",
   "execution_count": 75,
   "id": "7afdcf2a",
   "metadata": {
    "ExecuteTime": {
     "end_time": "2023-06-04T23:08:50.322630Z",
     "start_time": "2023-06-04T23:08:50.274592Z"
    }
   },
   "outputs": [
    {
     "data": {
      "text/html": [
       "<div>\n",
       "<style scoped>\n",
       "    .dataframe tbody tr th:only-of-type {\n",
       "        vertical-align: middle;\n",
       "    }\n",
       "\n",
       "    .dataframe tbody tr th {\n",
       "        vertical-align: top;\n",
       "    }\n",
       "\n",
       "    .dataframe thead th {\n",
       "        text-align: right;\n",
       "    }\n",
       "</style>\n",
       "<table border=\"1\" class=\"dataframe\">\n",
       "  <thead>\n",
       "    <tr style=\"text-align: right;\">\n",
       "      <th></th>\n",
       "      <th>activityId</th>\n",
       "      <th>uuidMsb</th>\n",
       "      <th>uuidLsb</th>\n",
       "      <th>name</th>\n",
       "      <th>activityType</th>\n",
       "      <th>userProfileId</th>\n",
       "      <th>timeZoneId</th>\n",
       "      <th>beginTimestamp</th>\n",
       "      <th>eventTypeId</th>\n",
       "      <th>rule</th>\n",
       "      <th>...</th>\n",
       "      <th>totalReps</th>\n",
       "      <th>strokes</th>\n",
       "      <th>avgStrokeCadence</th>\n",
       "      <th>maxStrokeCadence</th>\n",
       "      <th>description</th>\n",
       "      <th>surfaceInterval</th>\n",
       "      <th>avgVerticalSpeed</th>\n",
       "      <th>floorsClimbed</th>\n",
       "      <th>floorsDescended</th>\n",
       "      <th>jumpCount</th>\n",
       "    </tr>\n",
       "  </thead>\n",
       "  <tbody>\n",
       "    <tr>\n",
       "      <th>0</th>\n",
       "      <td>11262809838</td>\n",
       "      <td>6070234497669943244</td>\n",
       "      <td>-7333841656506997870</td>\n",
       "      <td>Cardio</td>\n",
       "      <td>indoor_cardio</td>\n",
       "      <td>103491132</td>\n",
       "      <td>149</td>\n",
       "      <td>1685819164000</td>\n",
       "      <td>9</td>\n",
       "      <td>private</td>\n",
       "      <td>...</td>\n",
       "      <td>NaN</td>\n",
       "      <td>NaN</td>\n",
       "      <td>NaN</td>\n",
       "      <td>NaN</td>\n",
       "      <td>NaN</td>\n",
       "      <td>NaN</td>\n",
       "      <td>NaN</td>\n",
       "      <td>NaN</td>\n",
       "      <td>NaN</td>\n",
       "      <td>NaN</td>\n",
       "    </tr>\n",
       "    <tr>\n",
       "      <th>1</th>\n",
       "      <td>11260073912</td>\n",
       "      <td>2361622545599316443</td>\n",
       "      <td>-4980467495421586172</td>\n",
       "      <td>Washington Walking</td>\n",
       "      <td>walking</td>\n",
       "      <td>103491132</td>\n",
       "      <td>149</td>\n",
       "      <td>1685796901000</td>\n",
       "      <td>9</td>\n",
       "      <td>private</td>\n",
       "      <td>...</td>\n",
       "      <td>NaN</td>\n",
       "      <td>NaN</td>\n",
       "      <td>NaN</td>\n",
       "      <td>NaN</td>\n",
       "      <td>NaN</td>\n",
       "      <td>NaN</td>\n",
       "      <td>NaN</td>\n",
       "      <td>NaN</td>\n",
       "      <td>NaN</td>\n",
       "      <td>NaN</td>\n",
       "    </tr>\n",
       "    <tr>\n",
       "      <th>2</th>\n",
       "      <td>11249377644</td>\n",
       "      <td>-5419875521236744512</td>\n",
       "      <td>-5363228732549423665</td>\n",
       "      <td>Washington Walking</td>\n",
       "      <td>walking</td>\n",
       "      <td>103491132</td>\n",
       "      <td>149</td>\n",
       "      <td>1685660662000</td>\n",
       "      <td>9</td>\n",
       "      <td>private</td>\n",
       "      <td>...</td>\n",
       "      <td>NaN</td>\n",
       "      <td>NaN</td>\n",
       "      <td>NaN</td>\n",
       "      <td>NaN</td>\n",
       "      <td>NaN</td>\n",
       "      <td>NaN</td>\n",
       "      <td>NaN</td>\n",
       "      <td>NaN</td>\n",
       "      <td>NaN</td>\n",
       "      <td>NaN</td>\n",
       "    </tr>\n",
       "    <tr>\n",
       "      <th>3</th>\n",
       "      <td>11249377622</td>\n",
       "      <td>-5351210222663219413</td>\n",
       "      <td>-6791563572441193286</td>\n",
       "      <td>Strength</td>\n",
       "      <td>strength_training</td>\n",
       "      <td>103491132</td>\n",
       "      <td>149</td>\n",
       "      <td>1685658824000</td>\n",
       "      <td>9</td>\n",
       "      <td>private</td>\n",
       "      <td>...</td>\n",
       "      <td>213.0</td>\n",
       "      <td>NaN</td>\n",
       "      <td>NaN</td>\n",
       "      <td>NaN</td>\n",
       "      <td>NaN</td>\n",
       "      <td>NaN</td>\n",
       "      <td>NaN</td>\n",
       "      <td>NaN</td>\n",
       "      <td>NaN</td>\n",
       "      <td>NaN</td>\n",
       "    </tr>\n",
       "    <tr>\n",
       "      <th>4</th>\n",
       "      <td>11249377600</td>\n",
       "      <td>5278913442662662999</td>\n",
       "      <td>-6728880016951054354</td>\n",
       "      <td>Indoor Rowing</td>\n",
       "      <td>indoor_rowing</td>\n",
       "      <td>103491132</td>\n",
       "      <td>149</td>\n",
       "      <td>1685657568000</td>\n",
       "      <td>9</td>\n",
       "      <td>private</td>\n",
       "      <td>...</td>\n",
       "      <td>NaN</td>\n",
       "      <td>290.0</td>\n",
       "      <td>29.0</td>\n",
       "      <td>32.0</td>\n",
       "      <td>NaN</td>\n",
       "      <td>NaN</td>\n",
       "      <td>NaN</td>\n",
       "      <td>NaN</td>\n",
       "      <td>NaN</td>\n",
       "      <td>NaN</td>\n",
       "    </tr>\n",
       "  </tbody>\n",
       "</table>\n",
       "<p>5 rows × 67 columns</p>\n",
       "</div>"
      ],
      "text/plain": [
       "    activityId              uuidMsb              uuidLsb                name  \\\n",
       "0  11262809838  6070234497669943244 -7333841656506997870              Cardio   \n",
       "1  11260073912  2361622545599316443 -4980467495421586172  Washington Walking   \n",
       "2  11249377644 -5419875521236744512 -5363228732549423665  Washington Walking   \n",
       "3  11249377622 -5351210222663219413 -6791563572441193286            Strength   \n",
       "4  11249377600  5278913442662662999 -6728880016951054354       Indoor Rowing   \n",
       "\n",
       "        activityType  userProfileId  timeZoneId  beginTimestamp  eventTypeId  \\\n",
       "0      indoor_cardio      103491132         149   1685819164000            9   \n",
       "1            walking      103491132         149   1685796901000            9   \n",
       "2            walking      103491132         149   1685660662000            9   \n",
       "3  strength_training      103491132         149   1685658824000            9   \n",
       "4      indoor_rowing      103491132         149   1685657568000            9   \n",
       "\n",
       "      rule  ... totalReps  strokes  avgStrokeCadence  maxStrokeCadence  \\\n",
       "0  private  ...       NaN      NaN               NaN               NaN   \n",
       "1  private  ...       NaN      NaN               NaN               NaN   \n",
       "2  private  ...       NaN      NaN               NaN               NaN   \n",
       "3  private  ...     213.0      NaN               NaN               NaN   \n",
       "4  private  ...       NaN    290.0              29.0              32.0   \n",
       "\n",
       "   description  surfaceInterval  avgVerticalSpeed  floorsClimbed  \\\n",
       "0          NaN              NaN               NaN            NaN   \n",
       "1          NaN              NaN               NaN            NaN   \n",
       "2          NaN              NaN               NaN            NaN   \n",
       "3          NaN              NaN               NaN            NaN   \n",
       "4          NaN              NaN               NaN            NaN   \n",
       "\n",
       "   floorsDescended  jumpCount  \n",
       "0              NaN        NaN  \n",
       "1              NaN        NaN  \n",
       "2              NaN        NaN  \n",
       "3              NaN        NaN  \n",
       "4              NaN        NaN  \n",
       "\n",
       "[5 rows x 67 columns]"
      ]
     },
     "execution_count": 75,
     "metadata": {},
     "output_type": "execute_result"
    }
   ],
   "source": [
    "df.head()"
   ]
  },
  {
   "cell_type": "code",
   "execution_count": 43,
   "id": "b91d342b",
   "metadata": {
    "ExecuteTime": {
     "end_time": "2023-06-04T22:45:54.123059Z",
     "start_time": "2023-06-04T22:45:54.115419Z"
    }
   },
   "outputs": [
    {
     "data": {
      "text/plain": [
       "Index(['activityId', 'uuidMsb', 'uuidLsb', 'name', 'activityType',\n",
       "       'userProfileId', 'timeZoneId', 'beginTimestamp', 'eventTypeId', 'rule',\n",
       "       'sportType', 'startTimeGmt', 'startTimeLocal', 'duration', 'distance',\n",
       "       'elevationGain', 'elevationLoss', 'avgSpeed', 'avgHr', 'maxHr',\n",
       "       'calories', 'bmrCalories', 'avgFractionalCadence',\n",
       "       'maxFractionalCadence', 'elapsedDuration', 'movingDuration', 'deviceId',\n",
       "       'minElevation', 'maxElevation', 'maxVerticalSpeed', 'manufacturer',\n",
       "       'lapCount', 'waterEstimated', 'decoDive', 'purposeful',\n",
       "       'autoCalcCalories', 'favorite', 'pr', 'elevationCorrected',\n",
       "       'atpActivity', 'parent', 'maxSpeed', 'avgRunCadence', 'maxRunCadence',\n",
       "       'steps', 'startLongitude', 'startLatitude', 'avgStrideLength',\n",
       "       'vO2MaxValue', 'avgDoubleCadence', 'maxDoubleCadence', 'locationName',\n",
       "       'endLongitude', 'endLatitude', 'summarizedExerciseSets', 'activeSets',\n",
       "       'totalSets', 'totalReps', 'strokes', 'avgStrokeCadence',\n",
       "       'maxStrokeCadence', 'description', 'surfaceInterval',\n",
       "       'avgVerticalSpeed', 'floorsClimbed', 'floorsDescended', 'jumpCount'],\n",
       "      dtype='object')"
      ]
     },
     "execution_count": 43,
     "metadata": {},
     "output_type": "execute_result"
    }
   ],
   "source": [
    "df.columns"
   ]
  },
  {
   "cell_type": "code",
   "execution_count": 42,
   "id": "f189783e",
   "metadata": {
    "ExecuteTime": {
     "end_time": "2023-06-04T22:45:51.647584Z",
     "start_time": "2023-06-04T22:45:51.632542Z"
    }
   },
   "outputs": [
    {
     "data": {
      "text/plain": [
       "(485, 67)"
      ]
     },
     "execution_count": 42,
     "metadata": {},
     "output_type": "execute_result"
    }
   ],
   "source": [
    "df.shape"
   ]
  },
  {
   "cell_type": "code",
   "execution_count": 44,
   "id": "a141675e",
   "metadata": {
    "ExecuteTime": {
     "end_time": "2023-06-04T22:47:59.090804Z",
     "start_time": "2023-06-04T22:47:59.073027Z"
    }
   },
   "outputs": [
    {
     "data": {
      "text/plain": [
       "array(['TRAINING', 'STEPS', 'FITNESS_EQUIPMENT', 'ROWING', 'RUNNING',\n",
       "       'CYCLING', 'SNOWBOARDING', 'HIKING'], dtype=object)"
      ]
     },
     "execution_count": 44,
     "metadata": {},
     "output_type": "execute_result"
    }
   ],
   "source": [
    "df['sportType'].unique()"
   ]
  },
  {
   "cell_type": "code",
   "execution_count": 59,
   "id": "d36eedc9",
   "metadata": {
    "ExecuteTime": {
     "end_time": "2023-06-04T23:01:26.983407Z",
     "start_time": "2023-06-04T23:01:26.675437Z"
    }
   },
   "outputs": [
    {
     "data": {
      "text/plain": [
       "[Text(0, 0, 'indoor_cardio'),\n",
       " Text(1, 0, 'walking'),\n",
       " Text(2, 0, 'strength_training'),\n",
       " Text(3, 0, 'indoor_rowing'),\n",
       " Text(4, 0, 'running'),\n",
       " Text(5, 0, 'cycling'),\n",
       " Text(6, 0, 'resort_skiing_snowboarding_ws'),\n",
       " Text(7, 0, 'hiking'),\n",
       " Text(8, 0, 'rowing_v2')]"
      ]
     },
     "execution_count": 59,
     "metadata": {},
     "output_type": "execute_result"
    },
    {
     "data": {
      "image/png": "[encoded data removed]",
      "text/plain": [
       "<Figure size 432x288 with 1 Axes>"
      ]
     },
     "metadata": {
      "needs_background": "light"
     },
     "output_type": "display_data"
    }
   ],
   "source": [
    "plt = sns.boxplot(x='activityType', y='avgHr', data=df)\n",
    "plt.set_xticklabels(plt.get_xticklabels(), rotation=90)"
   ]
  },
  {
   "cell_type": "code",
   "execution_count": 60,
   "id": "692b7487",
   "metadata": {
    "ExecuteTime": {
     "end_time": "2023-06-04T23:01:45.375169Z",
     "start_time": "2023-06-04T23:01:45.095931Z"
    }
   },
   "outputs": [
    {
     "data": {
      "text/plain": [
       "[Text(0, 0, 'TRAINING'),\n",
       " Text(1, 0, 'STEPS'),\n",
       " Text(2, 0, 'FITNESS_EQUIPMENT'),\n",
       " Text(3, 0, 'ROWING'),\n",
       " Text(4, 0, 'RUNNING'),\n",
       " Text(5, 0, 'CYCLING'),\n",
       " Text(6, 0, 'SNOWBOARDING'),\n",
       " Text(7, 0, 'HIKING')]"
      ]
     },
     "execution_count": 60,
     "metadata": {},
     "output_type": "execute_result"
    },
    {
     "data": {
      "image/png": "[encoded data removed]",
      "text/plain": [
       "<Figure size 432x288 with 1 Axes>"
      ]
     },
     "metadata": {
      "needs_background": "light"
     },
     "output_type": "display_data"
    }
   ],
   "source": [
    "plt = sns.boxplot(x='sportType', y='avgHr', data=df)\n",
    "plt.set_xticklabels(plt.get_xticklabels(), rotation=90)"
   ]
  },
  {
   "cell_type": "code",
   "execution_count": 62,
   "id": "4ffea8f3",
   "metadata": {
    "ExecuteTime": {
     "end_time": "2023-06-04T23:04:07.077049Z",
     "start_time": "2023-06-04T23:04:06.686938Z"
    }
   },
   "outputs": [
    {
     "data": {
      "text/plain": [
       "[Text(0, 0, 'TRAINING'),\n",
       " Text(1, 0, 'STEPS'),\n",
       " Text(2, 0, 'FITNESS_EQUIPMENT'),\n",
       " Text(3, 0, 'ROWING'),\n",
       " Text(4, 0, 'RUNNING'),\n",
       " Text(5, 0, 'CYCLING'),\n",
       " Text(6, 0, 'SNOWBOARDING'),\n",
       " Text(7, 0, 'HIKING')]"
      ]
     },
     "execution_count": 62,
     "metadata": {},
     "output_type": "execute_result"
    },
    {
     "data": {
      "image/png": "[encoded data removed]",
      "text/plain": [
       "<Figure size 432x288 with 1 Axes>"
      ]
     },
     "metadata": {
      "needs_background": "light"
     },
     "output_type": "display_data"
    }
   ],
   "source": [
    "plt = sns.boxplot(x='sportType', y='duration', data=df)\n",
    "plt.set_xticklabels(plt.get_xticklabels(), rotation=90)"
   ]
  },
  {
   "cell_type": "code",
   "execution_count": 93,
   "id": "be946944",
   "metadata": {
    "ExecuteTime": {
     "end_time": "2023-06-04T23:24:53.914828Z",
     "start_time": "2023-06-04T23:24:53.883981Z"
    }
   },
   "outputs": [
    {
     "ename": "JSONDecodeError",
     "evalue": "Extra data: line 1 column 54 (char 53)",
     "output_type": "error",
     "traceback": [
      "\u001b[1;31m---------------------------------------------------------------------------\u001b[0m",
      "\u001b[1;31mJSONDecodeError\u001b[0m                           Traceback (most recent call last)",
      "\u001b[1;32m~\\AppData\\Local\\Temp/ipykernel_4368/3034926336.py\u001b[0m in \u001b[0;36m<module>\u001b[1;34m\u001b[0m\n\u001b[0;32m      1\u001b[0m \u001b[0mexercises\u001b[0m \u001b[1;33m=\u001b[0m \u001b[0mstr\u001b[0m\u001b[1;33m(\u001b[0m\u001b[0mexercises\u001b[0m\u001b[1;33m)\u001b[0m\u001b[1;33m\u001b[0m\u001b[1;33m\u001b[0m\u001b[0m\n\u001b[1;32m----> 2\u001b[1;33m \u001b[0mdf_ex\u001b[0m \u001b[1;33m=\u001b[0m \u001b[0mjson\u001b[0m\u001b[1;33m.\u001b[0m\u001b[0mloads\u001b[0m\u001b[1;33m(\u001b[0m\u001b[0mexercises\u001b[0m\u001b[1;33m)\u001b[0m\u001b[1;33m\u001b[0m\u001b[1;33m\u001b[0m\u001b[0m\n\u001b[0m\u001b[0;32m      3\u001b[0m \u001b[0mdf_ex\u001b[0m \u001b[1;33m=\u001b[0m \u001b[0mpd\u001b[0m\u001b[1;33m.\u001b[0m\u001b[0mjson_normalize\u001b[0m\u001b[1;33m(\u001b[0m\u001b[0mdf_ex\u001b[0m\u001b[1;33m,\u001b[0m \u001b[0msep\u001b[0m\u001b[1;33m=\u001b[0m\u001b[1;34m'_'\u001b[0m\u001b[1;33m,\u001b[0m \u001b[0mrecord_path\u001b[0m\u001b[1;33m=\u001b[0m\u001b[1;34m'summarizedExerciseSets'\u001b[0m\u001b[1;33m)\u001b[0m\u001b[1;33m\u001b[0m\u001b[1;33m\u001b[0m\u001b[0m\n",
      "\u001b[1;32m~\\anaconda3\\lib\\json\\__init__.py\u001b[0m in \u001b[0;36mloads\u001b[1;34m(s, cls, object_hook, parse_float, parse_int, parse_constant, object_pairs_hook, **kw)\u001b[0m\n\u001b[0;32m    344\u001b[0m             \u001b[0mparse_int\u001b[0m \u001b[1;32mis\u001b[0m \u001b[1;32mNone\u001b[0m \u001b[1;32mand\u001b[0m \u001b[0mparse_float\u001b[0m \u001b[1;32mis\u001b[0m \u001b[1;32mNone\u001b[0m \u001b[1;32mand\u001b[0m\u001b[1;33m\u001b[0m\u001b[1;33m\u001b[0m\u001b[0m\n\u001b[0;32m    345\u001b[0m             parse_constant is None and object_pairs_hook is None and not kw):\n\u001b[1;32m--> 346\u001b[1;33m         \u001b[1;32mreturn\u001b[0m \u001b[0m_default_decoder\u001b[0m\u001b[1;33m.\u001b[0m\u001b[0mdecode\u001b[0m\u001b[1;33m(\u001b[0m\u001b[0ms\u001b[0m\u001b[1;33m)\u001b[0m\u001b[1;33m\u001b[0m\u001b[1;33m\u001b[0m\u001b[0m\n\u001b[0m\u001b[0;32m    347\u001b[0m     \u001b[1;32mif\u001b[0m \u001b[0mcls\u001b[0m \u001b[1;32mis\u001b[0m \u001b[1;32mNone\u001b[0m\u001b[1;33m:\u001b[0m\u001b[1;33m\u001b[0m\u001b[1;33m\u001b[0m\u001b[0m\n\u001b[0;32m    348\u001b[0m         \u001b[0mcls\u001b[0m \u001b[1;33m=\u001b[0m \u001b[0mJSONDecoder\u001b[0m\u001b[1;33m\u001b[0m\u001b[1;33m\u001b[0m\u001b[0m\n",
      "\u001b[1;32m~\\anaconda3\\lib\\json\\decoder.py\u001b[0m in \u001b[0;36mdecode\u001b[1;34m(self, s, _w)\u001b[0m\n\u001b[0;32m    338\u001b[0m         \u001b[0mend\u001b[0m \u001b[1;33m=\u001b[0m \u001b[0m_w\u001b[0m\u001b[1;33m(\u001b[0m\u001b[0ms\u001b[0m\u001b[1;33m,\u001b[0m \u001b[0mend\u001b[0m\u001b[1;33m)\u001b[0m\u001b[1;33m.\u001b[0m\u001b[0mend\u001b[0m\u001b[1;33m(\u001b[0m\u001b[1;33m)\u001b[0m\u001b[1;33m\u001b[0m\u001b[1;33m\u001b[0m\u001b[0m\n\u001b[0;32m    339\u001b[0m         \u001b[1;32mif\u001b[0m \u001b[0mend\u001b[0m \u001b[1;33m!=\u001b[0m \u001b[0mlen\u001b[0m\u001b[1;33m(\u001b[0m\u001b[0ms\u001b[0m\u001b[1;33m)\u001b[0m\u001b[1;33m:\u001b[0m\u001b[1;33m\u001b[0m\u001b[1;33m\u001b[0m\u001b[0m\n\u001b[1;32m--> 340\u001b[1;33m             \u001b[1;32mraise\u001b[0m \u001b[0mJSONDecodeError\u001b[0m\u001b[1;33m(\u001b[0m\u001b[1;34m\"Extra data\"\u001b[0m\u001b[1;33m,\u001b[0m \u001b[0ms\u001b[0m\u001b[1;33m,\u001b[0m \u001b[0mend\u001b[0m\u001b[1;33m)\u001b[0m\u001b[1;33m\u001b[0m\u001b[1;33m\u001b[0m\u001b[0m\n\u001b[0m\u001b[0;32m    341\u001b[0m         \u001b[1;32mreturn\u001b[0m \u001b[0mobj\u001b[0m\u001b[1;33m\u001b[0m\u001b[1;33m\u001b[0m\u001b[0m\n\u001b[0;32m    342\u001b[0m \u001b[1;33m\u001b[0m\u001b[0m\n",
      "\u001b[1;31mJSONDecodeError\u001b[0m: Extra data: line 1 column 54 (char 53)"
     ]
    }
   ],
   "source": [
    "exercises = str(exercises)\n",
    "df_ex = json.loads(exercises)\n",
    "df_ex = pd.json_normalize(df_ex, sep='_', record_path='summarizedExerciseSets')"
   ]
  }
 ],
 "metadata": {
  "hide_input": false,
  "kernelspec": {
   "display_name": "Python 3 (ipykernel)",
   "language": "python",
   "name": "python3"
  },
  "language_info": {
   "codemirror_mode": {
    "name": "ipython",
    "version": 3
   },
   "file_extension": ".py",
   "mimetype": "text/x-python",
   "name": "python",
   "nbconvert_exporter": "python",
   "pygments_lexer": "ipython3",
   "version": "3.9.7"
  },
  "latex_envs": {
   "LaTeX_envs_menu_present": true,
   "autoclose": false,
   "autocomplete": true,
   "bibliofile": "biblio.bib",
   "cite_by": "apalike",
   "current_citInitial": 1,
   "eqLabelWithNumbers": true,
   "eqNumInitial": 1,
   "hotkeys": {
    "equation": "Ctrl-E",
    "itemize": "Ctrl-I"
   },
   "labels_anchors": false,
   "latex_user_defs": false,
   "report_style_numbering": false,
   "user_envs_cfg": false
  },
  "nbTranslate": {
   "displayLangs": [
    "*"
   ],
   "hotkey": "alt-t",
   "langInMainMenu": true,
   "sourceLang": "en",
   "targetLang": "fr",
   "useGoogleTranslate": true
  },
  "toc": {
   "base_numbering": 1,
   "nav_menu": {},
   "number_sections": true,
   "sideBar": true,
   "skip_h1_title": false,
   "title_cell": "Table of Contents",
   "title_sidebar": "Contents",
   "toc_cell": false,
   "toc_position": {},
   "toc_section_display": true,
   "toc_window_display": false
  },
  "varInspector": {
   "cols": {
    "lenName": 16,
    "lenType": 16,
    "lenVar": 40
   },
   "kernels_config": {
    "python": {
     "delete_cmd_postfix": "",
     "delete_cmd_prefix": "del ",
     "library": "var_list.py",
     "varRefreshCmd": "print(var_dic_list())"
    },
    "r": {
     "delete_cmd_postfix": ") ",
     "delete_cmd_prefix": "rm(",
     "library": "var_list.r",
     "varRefreshCmd": "cat(var_dic_list()) "
    }
   },
   "types_to_exclude": [
    "module",
    "function",
    "builtin_function_or_method",
    "instance",
    "_Feature"
   ],
   "window_display": true
  }
 },
 "nbformat": 4,
 "nbformat_minor": 5
}
